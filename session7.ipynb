{
 "cells": [
  {
   "cell_type": "code",
   "execution_count": 4,
   "id": "54ad3052-e01c-47f3-9e9a-10518299724b",
   "metadata": {},
   "outputs": [
    {
     "name": "stdin",
     "output_type": "stream",
     "text": [
      "enter number: 45\n",
      "enter the number: 76\n"
     ]
    },
    {
     "name": "stdout",
     "output_type": "stream",
     "text": [
      "operations:1 = addition,2= multiplication,3=subtraction,4=dividion\n"
     ]
    },
    {
     "name": "stdin",
     "output_type": "stream",
     "text": [
      "enter an opration between 1 to 4 7\n"
     ]
    },
    {
     "name": "stdout",
     "output_type": "stream",
     "text": [
      "enter a valid number\n"
     ]
    }
   ],
   "source": [
    "num1=eval(input(\"enter number:\"))\n",
    "num2=eval(input(\"enter the number:\"))\n",
    "print(\"operations:1 = addition,2= multiplication,3=subtraction,4=dividion\")\n",
    "operation=eval(input(\"enter an opration between 1 to 4\"))\n",
    "if operation==1:\n",
    "    print(num1+num2)\n",
    "elif operation==2:\n",
    "    print(num1*num2)\n",
    "elif operation==3:\n",
    "    print(num1-num2)\n",
    "elif operation==4:\n",
    "    print(num1/num2)\n",
    "else:\n",
    "    print(\"enter a valid number\")"
   ]
  },
  {
   "cell_type": "code",
   "execution_count": 8,
   "id": "7e0c8f86-9b1a-4d85-b3e5-fc1d2244465b",
   "metadata": {},
   "outputs": [
    {
     "name": "stdin",
     "output_type": "stream",
     "text": [
      "enter gender trans\n"
     ]
    },
    {
     "name": "stdout",
     "output_type": "stream",
     "text": [
      "enter a valid gender\n"
     ]
    }
   ],
   "source": [
    "gender = input(\"enter gender\")\n",
    "if gender == 'male':\n",
    "    age=int(input(\"enter age:\"))\n",
    "    if age > 60:\n",
    "        print(\"senior citizen\")\n",
    "    elif age>30 and age<60:\n",
    "        print(\"maman\")\n",
    "    else:\n",
    "        print(\"young man\")\n",
    "elif gender=='female':\n",
    "    age=int(input(\"enter age:\"))\n",
    "    if age > 60:\n",
    "        print(\"senior citizen\")\n",
    "    elif age>30 and age<60:\n",
    "        print(\"mawoman\")\n",
    "    else:\n",
    "        print(\"young girl\")\n",
    "else:\n",
    "    print(\"enter a valid gender\")\n"
   ]
  },
  {
   "cell_type": "code",
   "execution_count": 12,
   "id": "443181b2-be69-4aef-a61f-c0663c6639f0",
   "metadata": {},
   "outputs": [
    {
     "name": "stdin",
     "output_type": "stream",
     "text": [
      "enter a number: -87\n"
     ]
    },
    {
     "name": "stdout",
     "output_type": "stream",
     "text": [
      "negative number\n"
     ]
    }
   ],
   "source": [
    "num=eval(input(\"enter a number:\"))\n",
    "if num>=0:\n",
    "    if num==0:\n",
    "        print('0')\n",
    "    else:\n",
    "        print(\"positive number\")\n",
    "else:\n",
    "    print(\"negative number\")"
   ]
  },
  {
   "cell_type": "code",
   "execution_count": null,
   "id": "4ec33b50-24e6-415b-994d-9b6417e2f1ae",
   "metadata": {},
   "outputs": [],
   "source": []
  }
 ],
 "metadata": {
  "kernelspec": {
   "display_name": "Python 3 (ipykernel)",
   "language": "python",
   "name": "python3"
  },
  "language_info": {
   "codemirror_mode": {
    "name": "ipython",
    "version": 3
   },
   "file_extension": ".py",
   "mimetype": "text/x-python",
   "name": "python",
   "nbconvert_exporter": "python",
   "pygments_lexer": "ipython3",
   "version": "3.11.7"
  }
 },
 "nbformat": 4,
 "nbformat_minor": 5
}
