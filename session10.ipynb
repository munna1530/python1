{
 "cells": [
  {
   "cell_type": "code",
   "execution_count": 2,
   "id": "da048f6d-d0d9-48f2-924f-044a89507aa0",
   "metadata": {},
   "outputs": [
    {
     "name": "stdout",
     "output_type": "stream",
     "text": [
      "number of even numbers are: 1\n",
      "number of odd numbers are: 4\n",
      "sum of even numbers are: 76\n",
      "number of odd numbers are: 208\n"
     ]
    }
   ],
   "source": [
    "import random\n",
    "even_count,odd_count=0,0\n",
    "even_sum,odd_sum=0,0\n",
    "for i in range(5):\n",
    "    num=random.randint(1,100)\n",
    "    if num%2==0:\n",
    "        even_count=even_count+1\n",
    "        even_sum=even_sum+num\n",
    "    else:\n",
    "        odd_count=odd_count+1\n",
    "        odd_sum=odd_sum+num\n",
    "print(\"number of even numbers are:\",even_count)\n",
    "print(\"number of odd numbers are:\",odd_count)\n",
    "print(\"sum of even numbers are:\",even_sum)\n",
    "print(\"number of odd numbers are:\",odd_sum)"
   ]
  },
  {
   "cell_type": "code",
   "execution_count": 5,
   "id": "51cdab66-96d5-412e-8bb5-d1e74fab85f8",
   "metadata": {},
   "outputs": [
    {
     "data": {
      "text/plain": [
       "(2, 3, 112, 149)"
      ]
     },
     "execution_count": 5,
     "metadata": {},
     "output_type": "execute_result"
    }
   ],
   "source": [
    "import random\n",
    "def e_o():\n",
    "    even_count,odd_count=0,0\n",
    "    even_sum,odd_sum=0,0\n",
    "    for i in range(5):\n",
    "        num=random.randint(1,100)\n",
    "        if num%2==0:\n",
    "            even_count=even_count+1\n",
    "            even_sum=even_sum+num\n",
    "        else:\n",
    "            odd_count=odd_count+1\n",
    "            odd_sum=odd_sum+num\n",
    "    return  even_count,odd_count,even_sum,odd_sum\n",
    "e_o()"
   ]
  },
  {
   "cell_type": "code",
   "execution_count": 6,
   "id": "1a9a548d-374d-4d34-93b6-30756ab40d0e",
   "metadata": {},
   "outputs": [
    {
     "name": "stdout",
     "output_type": "stream",
     "text": [
      "number of even numbers are: 1\n",
      "number of odd numbers are: 4\n",
      "sum of even numbers are: 36\n",
      "number of odd numbers are: 164\n"
     ]
    }
   ],
   "source": [
    "even_count,odd_count,even_sum,odd_sum=e_o()\n",
    "print(\"number of even numbers are:\",even_count)\n",
    "print(\"number of odd numbers are:\",odd_count)\n",
    "print(\"sum of even numbers are:\",even_sum)\n",
    "print(\"number of odd numbers are:\",odd_sum)"
   ]
  },
  {
   "cell_type": "code",
   "execution_count": 7,
   "id": "038b6506-dc49-4705-a852-3329df8cf579",
   "metadata": {},
   "outputs": [
    {
     "ename": "SyntaxError",
     "evalue": "invalid syntax (732439077.py, line 1)",
     "output_type": "error",
     "traceback": [
      "\u001b[1;36m  Cell \u001b[1;32mIn[7], line 1\u001b[1;36m\u001b[0m\n\u001b[1;33m    **IN OPERATOR**\u001b[0m\n\u001b[1;37m    ^\u001b[0m\n\u001b[1;31mSyntaxError\u001b[0m\u001b[1;31m:\u001b[0m invalid syntax\n"
     ]
    }
   ],
   "source": [
    "**IN OPERATOR**"
   ]
  },
  {
   "cell_type": "code",
   "execution_count": 10,
   "id": "e7f61937-a236-49e8-a78f-19da0bdba0b7",
   "metadata": {},
   "outputs": [
    {
     "name": "stdout",
     "output_type": "stream",
     "text": [
      "p\n",
      "y\n",
      "t\n",
      "h\n",
      "o\n",
      "n\n"
     ]
    }
   ],
   "source": [
    "string1='python'\n",
    "for i in string1:\n",
    "    print(i)"
   ]
  },
  {
   "cell_type": "code",
   "execution_count": 16,
   "id": "dc6ff285-6e42-4bda-834d-27e943eab6e1",
   "metadata": {},
   "outputs": [
    {
     "name": "stdout",
     "output_type": "stream",
     "text": [
      "the ascii of p is 112\n",
      "the ascii of y is 121\n",
      "the ascii of t is 116\n",
      "the ascii of h is 104\n",
      "the ascii of o is 111\n",
      "the ascii of n is 110\n"
     ]
    }
   ],
   "source": [
    "for i in 'python':\n",
    "    print(f\"the ascii of {i} is {ord(i)}\")    "
   ]
  },
  {
   "cell_type": "code",
   "execution_count": 18,
   "id": "6c73041d-f890-419c-aa65-bdf89cf0ea34",
   "metadata": {},
   "outputs": [
    {
     "name": "stdout",
     "output_type": "stream",
     "text": [
      "the sum of ascii is 674\n"
     ]
    }
   ],
   "source": [
    "ascii_sum=0\n",
    "for i in 'python':\n",
    "    ascii_sum=ascii_sum+ord(i)\n",
    "print(f\"the sum of ascii is {ascii_sum}\")    "
   ]
  },
  {
   "cell_type": "code",
   "execution_count": 24,
   "id": "e4428e6e-2a3a-4dd4-be8d-98d9796f8821",
   "metadata": {},
   "outputs": [
    {
     "data": {
      "text/plain": [
       "['Formatter',\n",
       " 'Template',\n",
       " '_ChainMap',\n",
       " '__all__',\n",
       " '__builtins__',\n",
       " '__cached__',\n",
       " '__doc__',\n",
       " '__file__',\n",
       " '__loader__',\n",
       " '__name__',\n",
       " '__package__',\n",
       " '__spec__',\n",
       " '_re',\n",
       " '_sentinel_dict',\n",
       " '_string',\n",
       " 'ascii_letters',\n",
       " 'ascii_lowercase',\n",
       " 'ascii_uppercase',\n",
       " 'capwords',\n",
       " 'digits',\n",
       " 'hexdigits',\n",
       " 'octdigits',\n",
       " 'printable',\n",
       " 'punctuation',\n",
       " 'whitespace']"
      ]
     },
     "execution_count": 24,
     "metadata": {},
     "output_type": "execute_result"
    }
   ],
   "source": [
    "import string\n",
    "dir(string)\n"
   ]
  },
  {
   "cell_type": "code",
   "execution_count": 26,
   "id": "e4e72669-b172-44b3-8327-d57349189aa9",
   "metadata": {},
   "outputs": [
    {
     "name": "stdout",
     "output_type": "stream",
     "text": [
      "a 97\n",
      "b 98\n",
      "c 99\n",
      "d 100\n",
      "e 101\n",
      "f 102\n",
      "g 103\n",
      "h 104\n",
      "i 105\n",
      "j 106\n",
      "k 107\n",
      "l 108\n",
      "m 109\n",
      "n 110\n",
      "o 111\n",
      "p 112\n",
      "q 113\n",
      "r 114\n",
      "s 115\n",
      "t 116\n",
      "u 117\n",
      "v 118\n",
      "w 119\n",
      "x 120\n",
      "y 121\n",
      "z 122\n"
     ]
    }
   ],
   "source": [
    "import string\n",
    "for i in string.ascii_lowercase:\n",
    "    print(i,ord(i))\n"
   ]
  },
  {
   "cell_type": "code",
   "execution_count": 28,
   "id": "7af442e7-5076-4279-8271-5a62975d3edc",
   "metadata": {},
   "outputs": [
    {
     "name": "stdout",
     "output_type": "stream",
     "text": [
      "33 !==>34 \"==>35 #==>36 $==>37 %==>38 &==>39 '==>40 (==>41 )==>42 *==>43 +==>44 ,==>45 -==>46 .==>47 /==>48 0==>49 1==>50 2==>51 3==>52 4==>53 5==>54 6==>55 7==>56 8==>57 9==>58 :==>59 ;==>60 <==>61 ===>62 >==>63 ?==>64 @==>65 A==>66 B==>67 C==>68 D==>69 E==>70 F==>71 G==>72 H==>73 I==>74 J==>75 K==>76 L==>77 M==>78 N==>79 O==>80 P==>81 Q==>82 R==>83 S==>84 T==>85 U==>86 V==>87 W==>88 X==>89 Y==>90 Z==>91 [==>92 \\==>93 ]==>94 ^==>95 _==>96 `==>97 a==>98 b==>99 c==>100 d==>101 e==>102 f==>103 g==>104 h==>105 i==>106 j==>107 k==>108 l==>109 m==>110 n==>111 o==>112 p==>113 q==>114 r==>115 s==>116 t==>117 u==>118 v==>119 w==>120 x==>121 y==>122 z==>123 {==>124 |==>125 }==>"
     ]
    }
   ],
   "source": [
    "for i in range(33,126):\n",
    "    print(i,chr(i),end='==>')"
   ]
  },
  {
   "cell_type": "code",
   "execution_count": 29,
   "id": "758766d1-a0fa-4c0c-aca7-ae564b268880",
   "metadata": {},
   "outputs": [
    {
     "name": "stdout",
     "output_type": "stream",
     "text": [
      "3078 ఆ==>3079 ఇ==>3080 ఈ==>3081 ఉ==>3082 ఊ==>3083 ఋ==>3084 ఌ==>3085 ఍==>3086 ఎ==>3087 ఏ==>3088 ఐ==>3089 ఑==>3090 ఒ==>3091 ఓ==>3092 ఔ==>3093 క==>3094 ఖ==>3095 గ==>3096 ఘ==>3097 ఙ==>3098 చ==>3099 ఛ==>3100 జ==>3101 ఝ==>3102 ఞ==>3103 ట==>3104 ఠ==>3105 డ==>3106 ఢ==>3107 ణ==>3108 త==>3109 థ==>3110 ద==>3111 ధ==>3112 న==>3113 ఩==>3114 ప==>3115 ఫ==>3116 బ==>3117 భ==>3118 మ==>3119 య==>3120 ర==>3121 ఱ==>3122 ల==>3123 ళ==>3124 ఴ==>3125 వ==>3126 శ==>3127 ష==>3128 స==>3129 హ==>3130 ఺==>3131 ఻==>3132 ఼==>3133 ఽ==>3134 ా==>3135 ి==>3136 ీ==>3137 ు==>3138 ూ==>3139 ృ==>3140 ౄ==>3141 ౅==>3142 ె==>3143 ే==>3144 ై==>3145 ౉==>3146 ొ==>3147 ో==>3148 ౌ==>3149 ్==>3150 ౎==>3151 ౏==>3152 ౐==>3153 ౑==>3154 ౒==>3155 ౓==>3156 ౔==>3157 ౕ==>3158 ౖ==>3159 ౗==>3160 ౘ==>3161 ౙ==>3162 ౚ==>3163 ౛==>3164 ౜==>3165 ౝ==>3166 ౞==>3167 ౟==>3168 ౠ==>3169 ౡ==>3170 ౢ==>3171 ౣ==>3172 ౤==>3173 ౥==>3174 ౦==>3175 ౧==>3176 ౨==>3177 ౩==>"
     ]
    }
   ],
   "source": [
    "for i in range(3078,3178):\n",
    "    print(i,chr(i),end='==>')"
   ]
  },
  {
   "cell_type": "code",
   "execution_count": null,
   "id": "230a48b3-e72c-4039-9da0-f1d006424f84",
   "metadata": {},
   "outputs": [],
   "source": []
  }
 ],
 "metadata": {
  "kernelspec": {
   "display_name": "Python 3 (ipykernel)",
   "language": "python",
   "name": "python3"
  },
  "language_info": {
   "codemirror_mode": {
    "name": "ipython",
    "version": 3
   },
   "file_extension": ".py",
   "mimetype": "text/x-python",
   "name": "python",
   "nbconvert_exporter": "python",
   "pygments_lexer": "ipython3",
   "version": "3.11.7"
  }
 },
 "nbformat": 4,
 "nbformat_minor": 5
}
