{
 "cells": [
  {
   "cell_type": "code",
   "execution_count": 3,
   "id": "7d00a360-f8ee-496b-a648-57ab96009803",
   "metadata": {},
   "outputs": [
    {
     "name": "stdout",
     "output_type": "stream",
     "text": [
      "1\n",
      "5\n"
     ]
    }
   ],
   "source": [
    "str1='hai hai hai hai'\n",
    "i1=str1.index('a')\n",
    "print(i1)\n",
    "i2=str1.index('a',i1+1)\n",
    "print(i2)"
   ]
  },
  {
   "cell_type": "code",
   "execution_count": 5,
   "id": "ec5662c4-6dfc-4833-aba2-7b3ed9423464",
   "metadata": {},
   "outputs": [
    {
     "data": {
      "text/plain": [
       "('rohit', 'sharma', 'mi')"
      ]
     },
     "execution_count": 5,
     "metadata": {},
     "output_type": "execute_result"
    }
   ],
   "source": [
    "str1='rohit.sharma@mi.com'\n",
    "i1=str1.index('.')\n",
    "i2=str1.index('@')\n",
    "i3=str1.index('.',i1+1)\n",
    "n1=str1[:i1]\n",
    "n2=str1[i1+1:i2]\n",
    "cname=str1[i2+1:i3]\n",
    "n1,n2,cname"
   ]
  },
  {
   "cell_type": "code",
   "execution_count": null,
   "id": "e7049eea-f2b4-4030-b7e5-d47e59d26b5b",
   "metadata": {},
   "outputs": [],
   "source": []
  }
 ],
 "metadata": {
  "kernelspec": {
   "display_name": "Python 3 (ipykernel)",
   "language": "python",
   "name": "python3"
  },
  "language_info": {
   "codemirror_mode": {
    "name": "ipython",
    "version": 3
   },
   "file_extension": ".py",
   "mimetype": "text/x-python",
   "name": "python",
   "nbconvert_exporter": "python",
   "pygments_lexer": "ipython3",
   "version": "3.11.7"
  }
 },
 "nbformat": 4,
 "nbformat_minor": 5
}
