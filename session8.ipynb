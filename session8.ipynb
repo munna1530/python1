{
 "cells": [
  {
   "cell_type": "code",
   "execution_count": 3,
   "id": "05266e5d-2657-4678-9b83-8af531530a3e",
   "metadata": {},
   "outputs": [
    {
     "name": "stdin",
     "output_type": "stream",
     "text": [
      "enter a number: 45\n",
      "enter a number: 65\n",
      "enter a number: 87\n"
     ]
    },
    {
     "name": "stdout",
     "output_type": "stream",
     "text": [
      "average of 45 , 65 , ,87 is 65.67\n"
     ]
    }
   ],
   "source": [
    "def average():\n",
    "    n1=eval(input(\"enter a number:\"))\n",
    "    n2=eval(input(\"enter a number:\"))\n",
    "    n3=eval(input(\"enter a number:\"))\n",
    "    avg=(n1+n2+n3)/3\n",
    "    avg1=round(avg,2)\n",
    "    print(f\"average of {n1} , {n2} , {n3} is {avg1}\")\n",
    "average()    "
   ]
  },
  {
   "cell_type": "code",
   "execution_count": 5,
   "id": "249257cd-a239-4212-bad9-a3711f3b09fa",
   "metadata": {},
   "outputs": [
    {
     "name": "stdin",
     "output_type": "stream",
     "text": [
      "enter radius: 8\n"
     ]
    },
    {
     "name": "stdout",
     "output_type": "stream",
     "text": [
      "area of circle of radius 8 is 200.96\n"
     ]
    }
   ],
   "source": [
    "def areaofcircle():\n",
    "    r=eval(input(\"enter radius:\"))\n",
    "    aoc=3.14*r**2\n",
    "    aoc1=round(aoc,2)\n",
    "    print(f\"area of circle of radius {r} is {aoc1}\")\n",
    "areaofcircle()    "
   ]
  },
  {
   "cell_type": "code",
   "execution_count": 6,
   "id": "851bdee0-5874-4f54-8347-a74872d4bcb4",
   "metadata": {},
   "outputs": [
    {
     "name": "stdout",
     "output_type": "stream",
     "text": [
      "the addition of 10 and n2 id: 30\n"
     ]
    }
   ],
   "source": [
    "def addition(n1,n2):\n",
    "    add=n1+n2\n",
    "    print(f\"the addition of {n1} and n{2} id: {add}\")\n",
    "addition(10,20)    "
   ]
  },
  {
   "cell_type": "code",
   "execution_count": 9,
   "id": "c93433ec-3c14-4617-9e6c-e4e34593353b",
   "metadata": {},
   "outputs": [
    {
     "name": "stdout",
     "output_type": "stream",
     "text": [
      "average of 45 , 67 , 54 is 55.33\n"
     ]
    }
   ],
   "source": [
    "def average(n1,n2,n3):\n",
    "    avg=(n1+n2+n3)/3\n",
    "    avg1=round(avg,2)\n",
    "    print(f\"average of {n1} , {n2} , {n3} is {avg1}\")\n",
    "average(45,67,54)    "
   ]
  },
  {
   "cell_type": "code",
   "execution_count": 10,
   "id": "a3af5dc4-833d-4f1d-8ced-ab31b919ac25",
   "metadata": {},
   "outputs": [
    {
     "name": "stdout",
     "output_type": "stream",
     "text": [
      "area of circle of radius 7 is 153.86\n"
     ]
    }
   ],
   "source": [
    "def areaofcircle(r):\n",
    "    aoc=3.14*r**2\n",
    "    aoc1=round(aoc,2)\n",
    "    print(f\"area of circle of radius {r} is {aoc1}\")\n",
    "areaofcircle(7)  "
   ]
  },
  {
   "cell_type": "code",
   "execution_count": 4,
   "id": "fc4c4457-bccb-4afa-b173-128f14ff8bcc",
   "metadata": {},
   "outputs": [
    {
     "name": "stdin",
     "output_type": "stream",
     "text": [
      "enter bill amount: 1000\n",
      "enter tip in percentage: 2\n"
     ]
    },
    {
     "name": "stdout",
     "output_type": "stream",
     "text": [
      "total bill is 1020.0\n"
     ]
    }
   ],
   "source": [
    "#bill amount\n",
    "def totalbill():\n",
    "    bill=eval(input(\"enter bill amount:\"))\n",
    "    tip_percent=eval(input(\"enter tip in percentage:\"))\n",
    "    tip=tip_percent * bill/100\n",
    "    total_bill=bill+tip\n",
    "    print(f\"total bill is {total_bill}\")\n",
    "totalbill()    "
   ]
  },
  {
   "cell_type": "code",
   "execution_count": 5,
   "id": "74629de0-6486-406e-843a-f665e8a104ea",
   "metadata": {},
   "outputs": [
    {
     "name": "stdin",
     "output_type": "stream",
     "text": [
      "enter height: 20\n",
      "enter base: 10\n"
     ]
    },
    {
     "name": "stdout",
     "output_type": "stream",
     "text": [
      "area of triangle is100.0\n"
     ]
    }
   ],
   "source": [
    "#area of triangle\n",
    "def aot():\n",
    "    h=eval(input(\"enter height:\"))\n",
    "    b=eval(input(\"enter base:\"))\n",
    "    area_of_triangle=1/2*h*b\n",
    "    print(f\"area of triangle is{area_of_triangle}\")\n",
    "aot()    "
   ]
  },
  {
   "cell_type": "code",
   "execution_count": 6,
   "id": "d54f01e2-a2c6-4bda-9569-2ee721451a75",
   "metadata": {},
   "outputs": [
    {
     "name": "stdout",
     "output_type": "stream",
     "text": [
      "area of triangle is100.0\n"
     ]
    }
   ],
   "source": [
    "def aot(h,b):\n",
    "    area_of_triangle=1/2*h*b\n",
    "    print(f\"area of triangle is{area_of_triangle}\")\n",
    "aot(20,10)    "
   ]
  },
  {
   "cell_type": "code",
   "execution_count": 7,
   "id": "d30506ff-abb9-4c74-bf62-ba774b69e2fd",
   "metadata": {},
   "outputs": [
    {
     "name": "stdout",
     "output_type": "stream",
     "text": [
      "area of rectangle : 150\n"
     ]
    }
   ],
   "source": [
    "#area of rectangle\n",
    "def area_of_rectangle(l,b):\n",
    "    aor=l*b\n",
    "    print(\"area of rectangle :\",aor)\n",
    "area_of_rectangle(10,15)    "
   ]
  },
  {
   "cell_type": "code",
   "execution_count": 8,
   "id": "d9dd16e4-a53e-46fe-9aea-b1284c2232ab",
   "metadata": {},
   "outputs": [
    {
     "name": "stdout",
     "output_type": "stream",
     "text": [
      "number is odd\n"
     ]
    }
   ],
   "source": [
    "#even or odd\n",
    "def even_or_odd(n):\n",
    "    if n%2==0:\n",
    "        print(\"the number is even:\")\n",
    "    else:\n",
    "        print(\"number is odd\")\n",
    "even_or_odd(209)        "
   ]
  },
  {
   "cell_type": "code",
   "execution_count": 10,
   "id": "f95efe05-8ece-4243-b302-4dd699cd2a4c",
   "metadata": {},
   "outputs": [
    {
     "name": "stdout",
     "output_type": "stream",
     "text": [
      "A grade\n"
     ]
    }
   ],
   "source": [
    "#percentage\n",
    "def percentage(p):\n",
    "    if p>90:\n",
    "        print(\"A grade\")\n",
    "    elif p>75 and p<90:\n",
    "        print(\"B grade\")\n",
    "    elif p>50 and p<75:\n",
    "        print(\"C grade\")\n",
    "    elif p>35 and p<50:\n",
    "        print(\" D grade\")\n",
    "    else:\n",
    "        (\"print fail\")\n",
    "percentage(91)         "
   ]
  },
  {
   "cell_type": "code",
   "execution_count": 14,
   "id": "87d0d8a1-9a87-4094-87ae-df7931d917d3",
   "metadata": {},
   "outputs": [
    {
     "name": "stdout",
     "output_type": "stream",
     "text": [
      "old age\n"
     ]
    }
   ],
   "source": [
    "#age\n",
    "def age(a):\n",
    "    if a>100:\n",
    "        print(\"you are lucky\")\n",
    "    elif a>75:\n",
    "        print(\"old age\")\n",
    "    elif a>50 and p<75:\n",
    "        print(\"senior citizen\")\n",
    "    elif a>30 and p<50:\n",
    "        print(\" mid age\")\n",
    "    elif a<15:\n",
    "        (\"kid\")\n",
    "age(91)   "
   ]
  },
  {
   "cell_type": "code",
   "execution_count": 19,
   "id": "fcb3ecad-dd4f-451f-891d-90f27976eae1",
   "metadata": {},
   "outputs": [
    {
     "name": "stdout",
     "output_type": "stream",
     "text": [
      "you lost\n"
     ]
    }
   ],
   "source": [
    "import random\n",
    "def game():\n",
    "    n1=random.randint(1,10)\n",
    "    n2=random.randint(1,10)\n",
    "    if n1==n2:\n",
    "        print(\"you won\")\n",
    "    else:\n",
    "        print(\"you lost\")\n",
    "game()        "
   ]
  },
  {
   "cell_type": "code",
   "execution_count": 20,
   "id": "5053c050-a913-4473-89e3-0d9ea07cf97d",
   "metadata": {},
   "outputs": [
    {
     "name": "stdout",
     "output_type": "stream",
     "text": [
      "positive number\n"
     ]
    }
   ],
   "source": [
    "#positive 0r negative\n",
    "def pos_neg(n):\n",
    "    if n >0:\n",
    "        print(\"positive number\")\n",
    "    elif n<0:\n",
    "        print(\"nrgative number\")\n",
    "    else:\n",
    "        print(\"it is 0\")\n",
    "pos_neg(89)        "
   ]
  },
  {
   "cell_type": "code",
   "execution_count": null,
   "id": "bea88b54-15b6-4a10-b9d0-6cea41f2adc5",
   "metadata": {},
   "outputs": [],
   "source": []
  }
 ],
 "metadata": {
  "kernelspec": {
   "display_name": "Python 3 (ipykernel)",
   "language": "python",
   "name": "python3"
  },
  "language_info": {
   "codemirror_mode": {
    "name": "ipython",
    "version": 3
   },
   "file_extension": ".py",
   "mimetype": "text/x-python",
   "name": "python",
   "nbconvert_exporter": "python",
   "pygments_lexer": "ipython3",
   "version": "3.11.7"
  }
 },
 "nbformat": 4,
 "nbformat_minor": 5
}
